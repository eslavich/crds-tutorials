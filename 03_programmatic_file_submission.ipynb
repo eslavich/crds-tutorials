{
 "cells": [
  {
   "cell_type": "markdown",
   "metadata": {},
   "source": [
    "# CRDS programmatic reference file submission\n",
    "\n",
    "An introduction to reference file submission using the CRDS Python API."
   ]
  },
  {
   "cell_type": "markdown",
   "metadata": {},
   "source": [
    "## Prerequisites\n",
    "\n",
    "To follow along with the examples in this notebook, you will need:\n",
    "\n",
    "- A CRDS server deployment to serve as a sandbox.  As of September 2020, the JWST B-string CRDS deployment has been commandeered to support these notebooks.\n",
    "\n",
    "- An active STScI VPN connection.\n",
    "\n",
    "- An account on the CRDS server with permissions to submit files.  If you need an account, contact Ed Slavich or Jonathan Eisenhamer or SCSB generally.\n",
    "\n",
    "- The following Python packages installed:\n",
    "\n",
    "```\n",
    "$ pip install crds==7.6.1 astropy==4.0.1 jwst==0.17.1\n",
    "```"
   ]
  },
  {
   "cell_type": "markdown",
   "metadata": {},
   "source": [
    "## ¡CAUTION!\n",
    "\n",
    "As you perform tasks on the CRDS website, always double-check that you are using the correct dev deployment and not one of the HST or JWST test or ops servers.  The changes you make can always be reverted, but a) the cleanup will give the CRDS operators a headache, and b) the system will retain your submissions eternally as a monument to your mistake.\n",
    "\n",
    "That said, if you are on the correct server, please do experiment freely (\"go nuts\").  The dev server can be easily reset to its original state."
   ]
  },
  {
   "cell_type": "markdown",
   "metadata": {},
   "source": [
    "## Generate a MAST API token\n",
    "\n",
    "Since we're going to be submitting a file, we'll need to identify ourselves to CRDS to prove that we have the permissions necessary to modify the system.  The programmatic API does not support authentication with username and password -- this is a security feature, since users tend to leave such credentials lying around in plaintext in scripts and notebooks.  Instead we'll authenticate with an API token that we generate for this purpose.  Follow this link to auth.mast (you will be asked to authenticate with STScI SSO if you have not already):\n",
    "\n",
    "https://auth.mast.stsci.edu/token\n",
    "\n",
    "Enter a useful token name like \"CRDS tutorials\" and press the red \"Create Token\" button.  You should see a result like this:\n",
    "\n",
    "![Create Token result](images/token_generated.png)\n",
    "\n",
    "Copy the token value and paste it into the `MAST_API_TOKEN` variable below:"
   ]
  },
  {
   "cell_type": "code",
   "execution_count": 1,
   "metadata": {},
   "outputs": [],
   "source": [
    "MAST_API_TOKEN = \"9c6b33db70ca44ecb7688e3cca0acdd1\"\n",
    "assert MAST_API_TOKEN != \"your-token-here\", \"Please set MAST_API_TOKEN\""
   ]
  },
  {
   "cell_type": "markdown",
   "metadata": {},
   "source": [
    "## Setup\n",
    "\n",
    "We'll once again need to configure CRDS to use the JWST B-string server, and this time we'll also set an environment variable for the API token:"
   ]
  },
  {
   "cell_type": "code",
   "execution_count": 2,
   "metadata": {},
   "outputs": [],
   "source": [
    "import os\n",
    "os.environ[\"CRDS_SERVER_URL\"] = \"https://jwst-crds-bit.stsci.edu\"\n",
    "os.environ[\"CRDS_PATH\"] = os.path.join(os.environ[\"HOME\"], \"crds-tutorial-cache\")\n",
    "os.environ[\"MAST_API_TOKEN\"] = MAST_API_TOKEN"
   ]
  },
  {
   "cell_type": "markdown",
   "metadata": {},
   "source": [
    "Then import the crds client library:"
   ]
  },
  {
   "cell_type": "code",
   "execution_count": 3,
   "metadata": {},
   "outputs": [],
   "source": [
    "import crds"
   ]
  },
  {
   "cell_type": "markdown",
   "metadata": {},
   "source": [
    "## Select and download an existing reference file\n",
    "\n",
    "Like in the second notebook, we need to acquire a file to update and submit.  Let's use a FITS file this time.  Here's a section of an **.rmap** for the `nircam` `readnoise` reference file type:\n",
    "\n",
    "```\n",
    "header = {\n",
    "    'classes' : ('Match', 'UseAfter'),\n",
    "    'derived_from' : 'jwst_nircam_readnoise_0005.rmap',\n",
    "    'filekind' : 'READNOISE',\n",
    "    'instrument' : 'NIRCAM',\n",
    "    'mapping' : 'REFERENCE',\n",
    "    'name' : 'jwst_nircam_readnoise_0006.rmap',\n",
    "    'observatory' : 'JWST',\n",
    "    'parkey' : (('META.INSTRUMENT.DETECTOR', 'META.EXPOSURE.READPATT', 'META.SUBARRAY.NAME'), ('META.OBSERVATION.DATE', 'META.OBSERVATION.TIME')),\n",
    "    'sha1sum' : '4f7fe083dc1f65374299a435d824c124d33dcfb3',\n",
    "    'substitutions' : {\n",
    "        'META.SUBARRAY.NAME' : {\n",
    "            'GENERIC' : 'N/A',\n",
    "        },\n",
    "    },\n",
    "}\n",
    "\n",
    "selector = Match({\n",
    "    ('NRCA1', 'ANY', 'GENERIC') : UseAfter({\n",
    "        '2015-10-01 00:00:00' : 'jwst_nircam_readnoise_0025.fits',\n",
    "    }),\n",
    "    ...\n",
    "})\n",
    "```\n",
    "\n",
    "That first file will do.  We'll again harness `crds.getreferences` to download the file for us:"
   ]
  },
  {
   "cell_type": "code",
   "execution_count": 4,
   "metadata": {},
   "outputs": [
    {
     "data": {
      "text/plain": [
       "{'readnoise': '/Users/eslavich/crds-tutorial-cache/references/jwst/nircam/jwst_nircam_readnoise_0025.fits'}"
      ]
     },
     "execution_count": 4,
     "metadata": {},
     "output_type": "execute_result"
    }
   ],
   "source": [
    "result = crds.getreferences(\n",
    "    {\n",
    "        \"META.INSTRUMENT.NAME\": \"NIRCAM\",\n",
    "        \"META.INSTRUMENT.DETECTOR\": \"NRCA1\",\n",
    "        \"META.EXPOSURE.READPATT\": \"I LOVE OATMEAL\",\n",
    "        \"META.SUBARRAY.NAME\": \"HARRIET\",\n",
    "        \"META.OBSERVATION.DATE\": \"2015-11-20\",\n",
    "        \"META.OBSERVATION.TIME\": \"10:11:12\",\n",
    "    },\n",
    "    reftypes=[\"readnoise\"],\n",
    "    observatory=\"jwst\",\n",
    "    context=\"jwst_0641.pmap\",\n",
    ")\n",
    "result"
   ]
  },
  {
   "cell_type": "markdown",
   "metadata": {},
   "source": [
    "... and voilà, the file is cached locally.  Notice the odd `META.EXPOSURE.READPATT` and `META.SUBARRAY.NAME` values that we passed to `getreferences`.  The `Match` selector supports wildcard matching, and both `ANY` and `GENERIC` are special values that match anything.  We'll get into the nitty-gritty of **.rmap** syntax later, but for now just know that there's more to matching than simple string comparisons."
   ]
  },
  {
   "cell_type": "code",
   "execution_count": 5,
   "metadata": {},
   "outputs": [],
   "source": [
    "!cp {result[\"readnoise\"]} ./jwst_nircam_readnoise_new.fits"
   ]
  },
  {
   "cell_type": "markdown",
   "metadata": {},
   "source": [
    "We're ready to go about modifying the file."
   ]
  },
  {
   "cell_type": "markdown",
   "metadata": {},
   "source": [
    "## Modify the reference file"
   ]
  },
  {
   "cell_type": "markdown",
   "metadata": {},
   "source": [
    "We'll make a different sort of modification to the file this time around.  Since it's a FITS file, we'll need to use `astropy.io.fits` to open it:"
   ]
  },
  {
   "cell_type": "code",
   "execution_count": 24,
   "metadata": {},
   "outputs": [
    {
     "data": {
      "text/plain": [
       "SIMPLE  =                    T / conforms to FITS standard                      \n",
       "BITPIX  =                    8 / array data type                                \n",
       "NAXIS   =                    0 / number of array dimensions                     \n",
       "EXTEND  =                    T                                                  \n",
       "                                                                                \n",
       "        Level 1b Schema Metadata                                                \n",
       "                                                                                \n",
       "DATE    = '2015-06-24T00:00:00' / Date this file was created (UTC)              \n",
       "FILENAME= 'NRCA1_17004_CDSNoise_ISIMCV3_ADU_2016-06-24_ssbreadnoise.fits' / Name\n",
       "TELESCOP= 'JWST    '           / Telescope used to acquire the data             \n",
       "                                                                                \n",
       "        Instrument configuration information                                    \n",
       "                                                                                \n",
       "INSTRUME= 'NIRCAM  '           / Instrument used to acquire the data            \n",
       "DETECTOR= 'NRCA1   '           / Name of detector used to acquire the data      \n",
       "MODULE  = 'A       '           / NIRCam module: A or B                          \n",
       "CHANNEL = 'SHORT   '           / NIRCam channel: long or short                  \n",
       "                                                                                \n",
       "        Subarray parameters                                                     \n",
       "                                                                                \n",
       "SUBARRAY= 'GENERIC '           / Subarray used                                  \n",
       "SUBSTRT1=                    1 / Starting pixel in axis 1 direction             \n",
       "SUBSTRT2=                    1 / Starting pixel in axis 2 direction             \n",
       "SUBSIZE1=                 2048 / Number of pixels in axis 1 direction           \n",
       "SUBSIZE2=                 2048 / Number of pixels in axis 2 direction           \n",
       "DESCRIP = 'CDS Noise Image'                                                     \n",
       "AUTHOR  = 'NIRCam Instrument Team'                                              \n",
       "REFTYPE = 'READNOISE'                                                           \n",
       "TERROIR = 'ISIMCV3 '                                                            \n",
       "SCA     = 'NRCA1   '           / NIRCAM SCA identification (kept for compatibili\n",
       "TLDYNEID= '17004   '           / Numeric SCA identifier                         \n",
       "NRAMP   =                   21 / Number of ramps used                           \n",
       "DOCUMENT= 'UNK     '           / Document describing this cal file.             \n",
       "SOFTWRE0= 'ldark_cds_v4.pro'   / Software used to derive cal file.              \n",
       "DATAUSED= 'See DOCUMENT'       / Data sets used to derive cal file.             \n",
       "FILEVERS=                    3 / Version of cal file.                           \n",
       "READPATT= 'ANY     '                                                            \n",
       "BUNIT   = 'ADU     '                                                            \n",
       "PEDIGREE= 'GROUND  '                                                            \n",
       "USEAFTER= '2020-09-16T19:07:29'                                                 \n",
       "FASTAXIS=                   -1                                                  \n",
       "SLOWAXIS=                    2                                                  \n",
       "HISTORY  Description of Reference File Creation                                 \n",
       "HISTORY  The first FITS extension contains the CDS noise for                    \n",
       "HISTORY  A1 in units of electrons.                                              \n",
       "HISTORY  The second FITS extension contains the uncertainty of                  \n",
       "HISTORY  the CDS noise. The CDS noise was constructed from stacks               \n",
       "HISTORY  of CDS images created from long dark ramps in RAPID or BRIGHT1         \n",
       "HISTORY  observing modes. The CDS noise for each pixel was computed             \n",
       "HISTORY  for each ramp separately.  The final CDS noise is the average          \n",
       "HISTORY  CDS noise from all the ramps and the uncertainty in the CDS            \n",
       "HISTORY  nosie is taken from the variance between the CDS noise computed        \n",
       "HISTORY  for each ramp. The CDS noise for each RAPID mode ramp was derived      \n",
       "HISTORY  from 54 samples per pixel while the CDS noise for each BRIGHT1         \n",
       "HISTORY  mode ramp was derived from 27 samples per pixel. The CDS noise         \n",
       "HISTORY  uncertainty was derived from the variance amongst the NRAMP samples    \n",
       "HISTORY  thus estimated.                                                        \n",
       "HISTORY  Note that the document referred to by the DOCUMENT keyword             \n",
       "HISTORY  describes the derivation of noise per read, i.e. a read noise.         \n",
       "HISTORY  This calibration product contains a CDS noise.  The derivation         \n",
       "HISTORY  described in DOCUMENT is identical modulo a facte of SQRT(2).          \n",
       "HISTORY |----------------------------------------------------------------------|\n",
       "HISTORY This file was delivered by the NIRCam team from the University of Arizon\n",
       "HISTORY a. File was modified by B. Brooks to be compliant with CRDS and JWST Pip\n",
       "HISTORY eline standards.                                                        "
      ]
     },
     "execution_count": 24,
     "metadata": {},
     "output_type": "execute_result"
    }
   ],
   "source": [
    "from astropy.io import fits\n",
    "\n",
    "hdul = fits.open(\"jwst_nircam_readnoise_new.fits\", mode=\"update\")\n",
    "hdul[0].header"
   ]
  },
  {
   "cell_type": "markdown",
   "metadata": {},
   "source": [
    "The change we'll make this time is to update the `USEAFTER` header value, which will lead to some interesting consequences when we submit the file:"
   ]
  },
  {
   "cell_type": "code",
   "execution_count": 25,
   "metadata": {},
   "outputs": [],
   "source": [
    "import datetime\n",
    "\n",
    "hdul[0].header[\"USEAFTER\"] = datetime.datetime.utcnow().isoformat(timespec=\"seconds\")\n",
    "hdul.close() # Changes are automatically flushed to disk on close()"
   ]
  },
  {
   "cell_type": "markdown",
   "metadata": {},
   "source": [
    "## Submit the file to CRDS... programmatically!\n",
    "\n",
    "At this point in the previous notebook, we followed a link to the CRDS website and uploaded our files and documentation via a web form.  Now we'll submit the same information, but use the `crds` library to submit it right from the notebook.  The first step is to create a `Submission` instance:"
   ]
  },
  {
   "cell_type": "code",
   "execution_count": 26,
   "metadata": {},
   "outputs": [],
   "source": [
    "from crds.submit import Submission\n",
    "\n",
    "# TODO: Set derived-from context once that parameter becomes available\n",
    "submission = Submission(\"jwst\", \"bit\", context=\"jwst_0641.pmap\")"
   ]
  },
  {
   "cell_type": "markdown",
   "metadata": {},
   "source": [
    "That second argument is an identifier that refers to the server use case / operational environment.  We've specified `\"bit\"`, which corresponds to the B-string server.  The `Submission.help` method will guide us through what we need to do next:"
   ]
  },
  {
   "cell_type": "code",
   "execution_count": 27,
   "metadata": {},
   "outputs": [
    {
     "name": "stdout",
     "output_type": "stream",
     "text": [
      "deliverer (str)\n",
      "---------\n",
      "Name of deliverer\n",
      "Who are you?\n",
      "\n",
      "other_email (str, optional)\n",
      "-----------\n",
      "Other e-mail adresses to send notifications\n",
      "\n",
      "instrument (str)\n",
      "----------\n",
      "Instrument  (All submitted files should match this instrument.  This\n",
      "instrument will be locked for your submission exclusively)\n",
      "Valid choices:\n",
      "  {'', 'fgs', 'miri', 'nircam', 'niriss', 'nirspec', 'system'}\n",
      "\n",
      "file_type (str)\n",
      "---------\n",
      "Type of files (Bias, Dark, etc.)\n",
      "\n",
      "history_updated (bool)\n",
      "---------------\n",
      "Has HISTORY section in the primary header been updated to describe in\n",
      "detail the reason for delivery and how the files were created?\n",
      "\n",
      "Valid choices:\n",
      "  {'False', 'True'}\n",
      "\n",
      "pedigree_updated (bool)\n",
      "----------------\n",
      "Has PEDIGREE keyword been checked and updated as necessary?\n",
      "\n",
      "Valid choices:\n",
      "  {'False', 'True'}\n",
      "\n",
      "keywords_checked (bool)\n",
      "----------------\n",
      "Have REFTYPE and AUTHOR been checked and updated as necessary?\n",
      "         REFTYPE Keywords           AUTHOR Keywords\n",
      "Valid choices:\n",
      "  {'False', 'True'}\n",
      "\n",
      "descrip_updated (bool)\n",
      "---------------\n",
      "Was the DESCRIP keyword updated with a summary of why the files were\n",
      "updated or created?\n",
      "\n",
      "Valid choices:\n",
      "  {'False', 'True'}\n",
      "\n",
      "useafter_updated (bool)\n",
      "----------------\n",
      "Has the USEAFTER keyword been checked, and if necessary, updated?\n",
      "\n",
      "Valid choices:\n",
      "  {'False', 'True'}\n",
      "\n",
      "useafter_matches (str)\n",
      "----------------\n",
      "If the reference files are replacing previous versions, do the new\n",
      "USEAFTER dates exactly match the old ones?\n",
      "N/A for ETC Files Only\n",
      "Valid choices:\n",
      "  {'N/A', 'No', 'Yes'}\n",
      "\n",
      "compliance_verified (str)\n",
      "-------------------\n",
      "Verification for compliance complete (fits, json, asdf compliant,\n",
      "certify, etc. or N/A)\n",
      "optional\n",
      "Valid choices:\n",
      "  {'N/A', 'No', 'Yes'}\n",
      "\n",
      "ingest_files (bool)\n",
      "------------\n",
      "Should the affected files be reprocessed?\n",
      "Valid choices:\n",
      "  {'False', 'True'}\n",
      "\n",
      "etc_delivery (bool)\n",
      "------------\n",
      "Should the files be submitted to the ETC?\n",
      "Valid choices:\n",
      "  {'False', 'True'}\n",
      "\n",
      "jwst_etc (bool)\n",
      "--------\n",
      "Are these JWST ETC files?\n",
      "Valid choices:\n",
      "  {'False', 'True'}\n",
      "\n",
      "calpipe_version (str)\n",
      "---------------\n",
      "Files run through the current version of the calibration software\n",
      "being used by the pipeline or PYSYNPHOT and ETC (yes/no and version\n",
      "number)\n",
      "\n",
      "replacement_files (bool)\n",
      "-----------------\n",
      "Are any files replacing old reference files (deliveries can be a mix\n",
      "of files that are or are not replacing old files) (yes/no)\n",
      "Valid choices:\n",
      "  {'False', 'True'}\n",
      "\n",
      "old_reference_files (str, optional)\n",
      "-------------------\n",
      "If yes, list them here\n",
      "\n",
      "replacing_badfiles (str)\n",
      "------------------\n",
      "If the files being replaced are bad (resulting in scientifically\n",
      "invalid results), and should not be used with any data, please\n",
      "indicate this here\n",
      "... or crashing the system.\n",
      "Valid choices:\n",
      "  {'N/A', 'No', 'Yes'}\n",
      "\n",
      "jira_issue (str, optional)\n",
      "----------\n",
      "Any JIRA issues filed in regard to the references being delivered\n",
      "(e.g. \"REDCAT-25\")\n",
      "Comma-delimited list (optional)\n",
      "\n",
      "table_rows_changed (str, optional)\n",
      "------------------\n",
      "If files are tables, please indicate exactly which rows have changed\n",
      "\n",
      "modes_affected (str)\n",
      "--------------\n",
      "Please indicate which modes (e.g. all the STIS, FUVMAMA, E140L modes)\n",
      "are affected by the changes in the files\n",
      "\n",
      "change_level (str)\n",
      "------------\n",
      "Degree that new files are expected to impact science results.\n",
      "Valid choices:\n",
      "  {'TRIVIAL', 'MODERATE', 'SEVERE'}\n",
      "\n",
      "correctness_testing (str)\n",
      "-------------------\n",
      "Description of how the files were tested for correctness\n",
      "\n",
      "additional_considerations (str, optional)\n",
      "-------------------------\n",
      "Additional considerations\n",
      "\n",
      "description (str)\n",
      "-----------\n",
      "Information about file changes and expected impacts, include\n",
      "instrument and type.  Formatting note: only alphanumeric, periods,\n",
      "commas, dashes, and underscores are allowed\n",
      "\n"
     ]
    }
   ],
   "source": [
    "submission.help()"
   ]
  },
  {
   "cell_type": "markdown",
   "metadata": {},
   "source": [
    "Each of these keys corresponds to a field on the web form, and we'll need to assign values for the required keys.  Let's use the same dummy values as before:"
   ]
  },
  {
   "cell_type": "code",
   "execution_count": 28,
   "metadata": {},
   "outputs": [],
   "source": [
    "submission[\"deliverer\"] = \"testing\"\n",
    "submission[\"instrument\"] = \"nircam\"\n",
    "submission[\"file_type\"] = \"testing\"\n",
    "submission[\"history_updated\"] = True\n",
    "submission[\"pedigree_updated\"] = True\n",
    "submission[\"keywords_checked\"] = True\n",
    "submission[\"descrip_updated\"] = True\n",
    "submission[\"useafter_updated\"] = True\n",
    "submission[\"useafter_matches\"] = \"N/A\"\n",
    "submission[\"compliance_verified\"] = \"N/A\"\n",
    "submission[\"ingest_files\"] = False\n",
    "submission[\"etc_delivery\"] = False\n",
    "submission[\"jwst_etc\"] = False\n",
    "submission[\"calpipe_version\"] = \"testing\"\n",
    "submission[\"replacement_files\"] = False\n",
    "submission[\"replacing_badfiles\"] = \"N/A\"\n",
    "submission[\"modes_affected\"] = \"testing\"\n",
    "submission[\"change_level\"] = \"SEVERE\"\n",
    "submission[\"correctness_testing\"] = \"testing\"\n",
    "submission[\"description\"] = \"testing\""
   ]
  },
  {
   "cell_type": "markdown",
   "metadata": {},
   "source": [
    "Now add the new file to the submission and send it off to the server:"
   ]
  },
  {
   "cell_type": "code",
   "execution_count": 29,
   "metadata": {},
   "outputs": [
    {
     "name": "stderr",
     "output_type": "stream",
     "text": [
      "2020-09-16 15:19:28,548 - CRDS - INFO -  =============================== setting up ===============================\n",
      "2020-09-16 15:19:28,549 - CRDS - INFO -  ########################################\n",
      "2020-09-16 15:19:28,550 - CRDS - INFO -  Certifying './jwst_nircam_readnoise_new.fits' (1/1) as 'FITS' relative to context 'jwst_0641.pmap'\n",
      "2020-09-16 15:19:28,571 - CRDS - WARNING -  External fitsverify program is enabled but not found on PATH.\n",
      "2020-09-16 15:19:28,768 - CRDS - INFO -  FITS file 'jwst_nircam_readnoise_new.fits' conforms to FITS standards.\n",
      "2020-09-16 15:19:29,369 - CRDS - WARNING -  Missing suggested keyword 'META.MODEL_TYPE [DATAMODL]'\n",
      "2020-09-16 15:19:29,516 - CRDS - INFO -  [0] BUNIT ADU \n",
      "2020-09-16 15:19:29,517 - CRDS - INFO -  [0] DETECTOR NRCA1 Name of detector used to acquire the data\n",
      "2020-09-16 15:19:29,518 - CRDS - INFO -  [0] SUBARRAY GENERIC Subarray used\n",
      "2020-09-16 15:19:29,519 - CRDS - INFO -  EXP_TYPE = 'UNDEFINED'\n",
      "2020-09-16 15:19:29,520 - CRDS - INFO -  META.AUTHOR [AUTHOR] = 'NIRCam Instrument Team'\n",
      "2020-09-16 15:19:29,521 - CRDS - INFO -  META.DESCRIPTION [DESCRIP] = 'CDS Noise Image'\n",
      "2020-09-16 15:19:29,522 - CRDS - INFO -  META.EXPOSURE.READPATT [READPATT] = 'ANY'\n",
      "2020-09-16 15:19:29,522 - CRDS - INFO -  META.EXPOSURE.TYPE [EXP_TYPE] = 'UNDEFINED'\n",
      "2020-09-16 15:19:29,523 - CRDS - INFO -  META.HISTORY [HISTORY] = ' Description of Reference File Creation\\n The first FITS extension contains the CDS noise for\\n A1 in units of electrons.\\n The second FITS extension contains the uncertainty of\\n the CDS noise. The CDS noise was constructed from stacks\\n of CDS images created from long dark ramps in RAPID or BRIGHT1\\n observing modes. The CDS noise for each pixel was computed\\n for each ramp separately.  The final CDS noise is the average\\n CDS noise from all the ramps and the uncertainty in the CDS\\n nosie is taken from the variance between the CDS noise computed\\n for each ramp. The CDS noise for each RAPID mode ramp was derived\\n from 54 samples per pixel while the CDS noise for each BRIGHT1\\n mode ramp was derived from 27 samples per pixel. The CDS noise\\n uncertainty was derived from the variance amongst the NRAMP samples\\n thus estimated.\\n Note that the document referred to by the DOCUMENT keyword\\n describes the derivation of noise per read, i.e. a read noise.\\n This calibration product contains a CDS noise.  The derivation\\n described in DOCUMENT is identical modulo a facte of SQRT(2).\\n|----------------------------------------------------------------------|\\nThis file was delivered by the NIRCam team from the University of Arizon\\na. File was modified by B. Brooks to be compliant with CRDS and JWST Pip\\neline standards.'\n",
      "2020-09-16 15:19:29,524 - CRDS - INFO -  META.INSTRUMENT.CHANNEL [CHANNEL] = 'SHORT'\n",
      "2020-09-16 15:19:29,525 - CRDS - INFO -  META.INSTRUMENT.CORONAGRAPH [CORONMSK] = 'UNDEFINED'\n",
      "2020-09-16 15:19:29,525 - CRDS - INFO -  META.INSTRUMENT.DETECTOR [DETECTOR] = 'NRCA1'\n",
      "2020-09-16 15:19:29,526 - CRDS - INFO -  META.INSTRUMENT.FILTER [FILTER] = 'UNDEFINED'\n",
      "2020-09-16 15:19:29,526 - CRDS - INFO -  META.INSTRUMENT.GRATING [GRATING] = 'UNDEFINED'\n",
      "2020-09-16 15:19:29,527 - CRDS - INFO -  META.INSTRUMENT.NAME [INSTRUME] = 'NIRCAM'\n",
      "2020-09-16 15:19:29,528 - CRDS - INFO -  META.INSTRUMENT.PUPIL [PUPIL] = 'UNDEFINED'\n",
      "2020-09-16 15:19:29,529 - CRDS - INFO -  META.MODEL_TYPE [DATAMODL] = 'UNDEFINED'\n",
      "2020-09-16 15:19:29,529 - CRDS - INFO -  META.OBSERVATION.DATE [DATE-OBS] = '2020-09-16'\n",
      "2020-09-16 15:19:29,530 - CRDS - INFO -  META.OBSERVATION.TIME [TIME-OBS] = '19:19:22'\n",
      "2020-09-16 15:19:29,530 - CRDS - INFO -  META.PEDIGREE [PEDIGREE] = 'GROUND'\n",
      "2020-09-16 15:19:29,531 - CRDS - INFO -  META.REFTYPE [REFTYPE] = 'READNOISE'\n",
      "2020-09-16 15:19:29,531 - CRDS - INFO -  META.SUBARRAY.FASTAXIS [FASTAXIS] = -1\n",
      "2020-09-16 15:19:29,532 - CRDS - INFO -  META.SUBARRAY.NAME [SUBARRAY] = 'GENERIC'\n",
      "2020-09-16 15:19:29,533 - CRDS - INFO -  META.SUBARRAY.SLOWAXIS [SLOWAXIS] = 2\n",
      "2020-09-16 15:19:29,533 - CRDS - INFO -  META.SUBARRAY.XSIZE [SUBSIZE1] = 2048\n",
      "2020-09-16 15:19:29,534 - CRDS - INFO -  META.SUBARRAY.XSTART [SUBSTRT1] = 1\n",
      "2020-09-16 15:19:29,534 - CRDS - INFO -  META.SUBARRAY.YSIZE [SUBSIZE2] = 2048\n",
      "2020-09-16 15:19:29,535 - CRDS - INFO -  META.SUBARRAY.YSTART [SUBSTRT2] = 1\n",
      "2020-09-16 15:19:29,536 - CRDS - INFO -  META.TELESCOPE [TELESCOP] = 'JWST'\n",
      "2020-09-16 15:19:29,536 - CRDS - INFO -  META.USEAFTER [USEAFTER] = '2020-09-16T19:19:22'\n",
      "2020-09-16 15:19:29,715 - CRDS - INFO -  Checking JWST datamodels.\n",
      "2020-09-16 15:19:29,756 - CRDS - WARNING -  NoTypeWarning : jwst.datamodels.util : model_type not found. Opening ./jwst_nircam_readnoise_new.fits as a ReferenceImageModel\n",
      "2020-09-16 15:19:29,831 - CRDS - INFO -  ########################################\n",
      "2020-09-16 15:19:29,906 - CRDS - INFO -  Logging in aquiring lock.\n",
      "2020-09-16 15:19:31,749 - CRDS - INFO -  =============================== wipe files ===============================\n",
      "2020-09-16 15:19:31,905 - CRDS - INFO -  Wiping file 'jwst_nircam_readnoise_new.fits'\n",
      "2020-09-16 15:19:32,339 - CRDS - INFO -  Preparing server logging.\n",
      "2020-09-16 15:19:32,541 - CRDS - INFO -  ============================== ingest files ==============================\n",
      "2020-09-16 15:19:32,542 - CRDS - INFO -  Uploading 1 file(s) totalling  16.8 M bytes\n",
      "2020-09-16 15:19:32,673 - CRDS - INFO -  Upload started './jwst_nircam_readnoise_new.fits' [ 1 / 1  files ] [  16.8 M /  16.8 M  bytes ]\n",
      "2020-09-16 15:20:11,614 - CRDS - INFO -  ===========================================================================\n",
      "2020-09-16 15:20:11,614 - CRDS - INFO -  Posting web request for '/submission_form/redcat_submit/'\n",
      "CRDS - INFO -  ======= monitoring server on '273f89a1-b095-41fc-a580-39344e55f2df' =======\n"
     ]
    },
    {
     "ename": "CrdsBackgroundError",
     "evalue": "Exception in 'monitor' : \"CRDS jsonrpc failure 'jpoll_pull_messages' <urlopen error [Errno 60] Operation timed out>\"",
     "output_type": "error",
     "traceback": [
      "\u001b[0;31m---------------------------------------------------------------------------\u001b[0m",
      "\u001b[0;31mCrdsBackgroundError\u001b[0m                       Traceback (most recent call last)",
      "\u001b[0;32m<ipython-input-29-394d0a50777c>\u001b[0m in \u001b[0;36m<module>\u001b[0;34m\u001b[0m\n\u001b[1;32m      1\u001b[0m \u001b[0msubmission\u001b[0m\u001b[0;34m.\u001b[0m\u001b[0madd_file\u001b[0m\u001b[0;34m(\u001b[0m\u001b[0;34m\"jwst_nircam_readnoise_new.fits\"\u001b[0m\u001b[0;34m)\u001b[0m\u001b[0;34m\u001b[0m\u001b[0;34m\u001b[0m\u001b[0m\n\u001b[0;32m----> 2\u001b[0;31m \u001b[0mresult\u001b[0m \u001b[0;34m=\u001b[0m \u001b[0msubmission\u001b[0m\u001b[0;34m.\u001b[0m\u001b[0msubmit\u001b[0m\u001b[0;34m(\u001b[0m\u001b[0;34m)\u001b[0m\u001b[0;34m\u001b[0m\u001b[0;34m\u001b[0m\u001b[0m\n\u001b[0m",
      "\u001b[0;32m~/repos/crds/crds/submit/rc_submit.py\u001b[0m in \u001b[0;36msubmit\u001b[0;34m(self)\u001b[0m\n\u001b[1;32m    340\u001b[0m         \u001b[0mscript\u001b[0m \u001b[0;34m=\u001b[0m \u001b[0mRedCatApiScript\u001b[0m\u001b[0;34m(\u001b[0m\u001b[0margv\u001b[0m\u001b[0;34m)\u001b[0m\u001b[0;34m\u001b[0m\u001b[0;34m\u001b[0m\u001b[0m\n\u001b[1;32m    341\u001b[0m         \u001b[0mscript\u001b[0m\u001b[0;34m.\u001b[0m\u001b[0m_extra_redcat_parameters\u001b[0m \u001b[0;34m=\u001b[0m \u001b[0mdict\u001b[0m\u001b[0;34m(\u001b[0m\u001b[0mself\u001b[0m\u001b[0;34m)\u001b[0m\u001b[0;34m\u001b[0m\u001b[0;34m\u001b[0m\u001b[0m\n\u001b[0;32m--> 342\u001b[0;31m         \u001b[0mscript\u001b[0m\u001b[0;34m(\u001b[0m\u001b[0;34m)\u001b[0m\u001b[0;34m\u001b[0m\u001b[0;34m\u001b[0m\u001b[0m\n\u001b[0m\u001b[1;32m    343\u001b[0m \u001b[0;34m\u001b[0m\u001b[0m\n\u001b[1;32m    344\u001b[0m         return SubmissionResult(\n",
      "\u001b[0;32m~/repos/crds/crds/core/cmdline.py\u001b[0m in \u001b[0;36m__call__\u001b[0;34m(self)\u001b[0m\n\u001b[1;32m    178\u001b[0m                 \u001b[0mpdb\u001b[0m\u001b[0;34m.\u001b[0m\u001b[0mrunctx\u001b[0m\u001b[0;34m(\u001b[0m\u001b[0;34m\"self._main()\"\u001b[0m\u001b[0;34m,\u001b[0m \u001b[0mglobals\u001b[0m\u001b[0;34m(\u001b[0m\u001b[0;34m)\u001b[0m\u001b[0;34m,\u001b[0m \u001b[0mlocals\u001b[0m\u001b[0;34m(\u001b[0m\u001b[0;34m)\u001b[0m\u001b[0;34m)\u001b[0m\u001b[0;34m\u001b[0m\u001b[0;34m\u001b[0m\u001b[0m\n\u001b[1;32m    179\u001b[0m             \u001b[0;32melse\u001b[0m\u001b[0;34m:\u001b[0m\u001b[0;34m\u001b[0m\u001b[0;34m\u001b[0m\u001b[0m\n\u001b[0;32m--> 180\u001b[0;31m                 \u001b[0mself\u001b[0m\u001b[0;34m.\u001b[0m\u001b[0m_main\u001b[0m\u001b[0;34m(\u001b[0m\u001b[0;34m)\u001b[0m\u001b[0;34m\u001b[0m\u001b[0;34m\u001b[0m\u001b[0m\n\u001b[0m\u001b[1;32m    181\u001b[0m         \u001b[0;32mexcept\u001b[0m \u001b[0mKeyboardInterrupt\u001b[0m \u001b[0;32mas\u001b[0m \u001b[0mexc\u001b[0m\u001b[0;34m:\u001b[0m\u001b[0;34m\u001b[0m\u001b[0;34m\u001b[0m\u001b[0m\n\u001b[1;32m    182\u001b[0m             \u001b[0;32mif\u001b[0m \u001b[0mself\u001b[0m\u001b[0;34m.\u001b[0m\u001b[0margs\u001b[0m\u001b[0;34m.\u001b[0m\u001b[0mpdb\u001b[0m\u001b[0;34m:\u001b[0m\u001b[0;34m\u001b[0m\u001b[0;34m\u001b[0m\u001b[0m\n",
      "\u001b[0;32m~/repos/crds/crds/core/cmdline.py\u001b[0m in \u001b[0;36m_main\u001b[0;34m(self)\u001b[0m\n\u001b[1;32m    159\u001b[0m         \"\"\"\n\u001b[1;32m    160\u001b[0m         \u001b[0mself\u001b[0m\u001b[0;34m.\u001b[0m\u001b[0mcontexts\u001b[0m \u001b[0;34m=\u001b[0m \u001b[0mself\u001b[0m\u001b[0;34m.\u001b[0m\u001b[0mdetermine_contexts\u001b[0m\u001b[0;34m(\u001b[0m\u001b[0;34m)\u001b[0m\u001b[0;34m\u001b[0m\u001b[0;34m\u001b[0m\u001b[0m\n\u001b[0;32m--> 161\u001b[0;31m         \u001b[0mself\u001b[0m\u001b[0;34m.\u001b[0m\u001b[0m_exit_status\u001b[0m \u001b[0;34m=\u001b[0m \u001b[0mself\u001b[0m\u001b[0;34m.\u001b[0m\u001b[0mmain\u001b[0m\u001b[0;34m(\u001b[0m\u001b[0;34m)\u001b[0m\u001b[0;34m\u001b[0m\u001b[0;34m\u001b[0m\u001b[0m\n\u001b[0m\u001b[1;32m    162\u001b[0m         \u001b[0mself\u001b[0m\u001b[0;34m.\u001b[0m\u001b[0mreport_stats\u001b[0m\u001b[0;34m(\u001b[0m\u001b[0;34m)\u001b[0m  \u001b[0;31m# here if not called already\u001b[0m\u001b[0;34m\u001b[0m\u001b[0;34m\u001b[0m\u001b[0m\n\u001b[1;32m    163\u001b[0m         \u001b[0;32mif\u001b[0m \u001b[0mself\u001b[0m\u001b[0;34m.\u001b[0m\u001b[0mprint_status\u001b[0m\u001b[0;34m:\u001b[0m\u001b[0;34m\u001b[0m\u001b[0;34m\u001b[0m\u001b[0m\n",
      "\u001b[0;32m~/repos/crds/crds/submit/submit.py\u001b[0m in \u001b[0;36mmain\u001b[0;34m(self)\u001b[0m\n\u001b[1;32m    345\u001b[0m \u001b[0;34m\u001b[0m\u001b[0m\n\u001b[1;32m    346\u001b[0m         \u001b[0;32mif\u001b[0m \u001b[0mself\u001b[0m\u001b[0;34m.\u001b[0m\u001b[0margs\u001b[0m\u001b[0;34m.\u001b[0m\u001b[0mmonitor_processing\u001b[0m\u001b[0;34m:\u001b[0m\u001b[0;34m\u001b[0m\u001b[0;34m\u001b[0m\u001b[0m\n\u001b[0;32m--> 347\u001b[0;31m             \u001b[0mmonitor\u001b[0m \u001b[0;34m=\u001b[0m \u001b[0mself\u001b[0m\u001b[0;34m.\u001b[0m\u001b[0mmonitor_complete\u001b[0m\u001b[0;34m(\u001b[0m\u001b[0mmonitor_future\u001b[0m\u001b[0;34m)\u001b[0m\u001b[0;34m\u001b[0m\u001b[0;34m\u001b[0m\u001b[0m\n\u001b[0m\u001b[1;32m    348\u001b[0m             \u001b[0;32mif\u001b[0m \u001b[0mmonitor\u001b[0m\u001b[0;34m.\u001b[0m\u001b[0mexit_status\u001b[0m \u001b[0;34m==\u001b[0m \u001b[0;36m0\u001b[0m\u001b[0;34m:\u001b[0m\u001b[0;34m\u001b[0m\u001b[0;34m\u001b[0m\u001b[0m\n\u001b[1;32m    349\u001b[0m                 \u001b[0mself\u001b[0m\u001b[0;34m.\u001b[0m\u001b[0m_ready_url\u001b[0m \u001b[0;34m=\u001b[0m \u001b[0mmonitor\u001b[0m\u001b[0;34m.\u001b[0m\u001b[0mresult\u001b[0m\u001b[0;34m\u001b[0m\u001b[0;34m\u001b[0m\u001b[0m\n",
      "\u001b[0;32m~/repos/crds/crds/submit/submit.py\u001b[0m in \u001b[0;36mmonitor_complete\u001b[0;34m(self, monitor_future)\u001b[0m\n\u001b[1;32m    278\u001b[0m     \u001b[0;32mdef\u001b[0m \u001b[0mmonitor_complete\u001b[0m\u001b[0;34m(\u001b[0m\u001b[0mself\u001b[0m\u001b[0;34m,\u001b[0m \u001b[0mmonitor_future\u001b[0m\u001b[0;34m)\u001b[0m\u001b[0;34m:\u001b[0m\u001b[0;34m\u001b[0m\u001b[0;34m\u001b[0m\u001b[0m\n\u001b[1;32m    279\u001b[0m         \u001b[0;34m\"\"\"Wait for the monitor job to complete and return the result.\"\"\"\u001b[0m\u001b[0;34m\u001b[0m\u001b[0;34m\u001b[0m\u001b[0m\n\u001b[0;32m--> 280\u001b[0;31m         \u001b[0;32mreturn\u001b[0m \u001b[0mbackground\u001b[0m\u001b[0;34m.\u001b[0m\u001b[0mbackground_complete\u001b[0m\u001b[0;34m(\u001b[0m\u001b[0mmonitor_future\u001b[0m\u001b[0;34m)\u001b[0m\u001b[0;34m\u001b[0m\u001b[0;34m\u001b[0m\u001b[0m\n\u001b[0m\u001b[1;32m    281\u001b[0m \u001b[0;34m\u001b[0m\u001b[0m\n\u001b[1;32m    282\u001b[0m     \u001b[0;31m# -------------------------------------------------------------------------------------------------\u001b[0m\u001b[0;34m\u001b[0m\u001b[0;34m\u001b[0m\u001b[0;34m\u001b[0m\u001b[0m\n",
      "\u001b[0;32m~/repos/crds/crds/submit/background.py\u001b[0m in \u001b[0;36mbackground_complete\u001b[0;34m(thread)\u001b[0m\n\u001b[1;32m     78\u001b[0m             \u001b[0;32mreturn\u001b[0m \u001b[0mthread\u001b[0m\u001b[0;34m.\u001b[0m\u001b[0mresult\u001b[0m\u001b[0;34m\u001b[0m\u001b[0;34m\u001b[0m\u001b[0m\n\u001b[1;32m     79\u001b[0m         \u001b[0;32melse\u001b[0m\u001b[0;34m:\u001b[0m\u001b[0;34m\u001b[0m\u001b[0;34m\u001b[0m\u001b[0m\n\u001b[0;32m---> 80\u001b[0;31m             \u001b[0;32mraise\u001b[0m \u001b[0mexceptions\u001b[0m\u001b[0;34m.\u001b[0m\u001b[0mCrdsBackgroundError\u001b[0m\u001b[0;34m(\u001b[0m\u001b[0;34m\"Exception in\"\u001b[0m\u001b[0;34m,\u001b[0m \u001b[0mrepr\u001b[0m\u001b[0;34m(\u001b[0m\u001b[0mthread\u001b[0m\u001b[0;34m.\u001b[0m\u001b[0mname\u001b[0m\u001b[0;34m)\u001b[0m\u001b[0;34m,\u001b[0m \u001b[0;34m\":\"\u001b[0m\u001b[0;34m,\u001b[0m \u001b[0mrepr\u001b[0m\u001b[0;34m(\u001b[0m\u001b[0mthread\u001b[0m\u001b[0;34m.\u001b[0m\u001b[0mexc\u001b[0m\u001b[0;34m)\u001b[0m\u001b[0;34m)\u001b[0m\u001b[0;34m\u001b[0m\u001b[0;34m\u001b[0m\u001b[0m\n\u001b[0m\u001b[1;32m     81\u001b[0m     \u001b[0;32melse\u001b[0m\u001b[0;34m:\u001b[0m\u001b[0;34m\u001b[0m\u001b[0;34m\u001b[0m\u001b[0m\n\u001b[1;32m     82\u001b[0m         \u001b[0;32mreturn\u001b[0m \u001b[0mthread\u001b[0m\u001b[0;34m\u001b[0m\u001b[0;34m\u001b[0m\u001b[0m\n",
      "\u001b[0;31mCrdsBackgroundError\u001b[0m: Exception in 'monitor' : \"CRDS jsonrpc failure 'jpoll_pull_messages' <urlopen error [Errno 60] Operation timed out>\""
     ]
    }
   ],
   "source": [
    "submission.add_file(\"jwst_nircam_readnoise_new.fits\")\n",
    "result = submission.submit()"
   ]
  },
  {
   "cell_type": "markdown",
   "metadata": {},
   "source": [
    "## Inspect and confirm the submission\n",
    "\n",
    "Completing this final submission step still requires use of the CRDS website.  The result object returned by `Submission.submit` includes a method that will pop open a browser window to the submission results page:"
   ]
  },
  {
   "cell_type": "code",
   "execution_count": null,
   "metadata": {},
   "outputs": [],
   "source": [
    "result.open_ready_url()"
   ]
  },
  {
   "cell_type": "markdown",
   "metadata": {},
   "source": [
    "The website will ask you to login.  Lock the `nircam` instrument that we're working with and proceed to the results page.  Notice the difference in the **.rmap** diff versus the previous notebook's submission:\n",
    "\n",
    "```\n",
    " selector = Match({\n",
    "     ('NRCA1', 'ANY', 'GENERIC') : UseAfter({\n",
    "         '2015-10-01 00:00:00' : 'jwst_nircam_readnoise_0025.fits',\n",
    "+        '2018-01-01 00:00:00' : 'jwst_nircam_readnoise_0045.fits',\n",
    "     }),\n",
    "     ('NRCA1', 'N/A', 'GENERIC') : UseAfter({\n",
    "         '1900-01-01 00:00:00' : 'jwst_nircam_readnoise_0010.fits',\n",
    "```\n",
    "\n",
    "We've added a line, but the previous line was not removed!  What's happening here?\n",
    "\n",
    "When we changed the `USEAFTER` timestamp in the reference file, what we were telling CRDS was that this file supercedes the old file _but only for data acquired after this date_.  The old rule persists because it still needs to handle matches for data timestamped prior to `2018-01-01`.  We'll see how that plays out when making calls to `crds.getreferences` in the next section.\n",
    "\n",
    "Confirm the submission as before and set the `NEW_CONTEXT` variable to the new context identifier."
   ]
  },
  {
   "cell_type": "code",
   "execution_count": null,
   "metadata": {},
   "outputs": [],
   "source": [
    "NEW_CONTEXT = \"your-context-here\"\n",
    "assert NEW_CONTEXT != \"your-context-here\", \"Please set NEW_CONTEXT\""
   ]
  },
  {
   "cell_type": "markdown",
   "metadata": {},
   "source": [
    "Now spend 5 minutes doing jumping jacks while the CRDS server performs its simulated archiving."
   ]
  },
  {
   "cell_type": "markdown",
   "metadata": {},
   "source": [
    "## Explore the new context\n",
    "\n",
    "\n",
    "As before, we need to dig into the guts of crds and reset some caches:"
   ]
  },
  {
   "cell_type": "code",
   "execution_count": null,
   "metadata": {},
   "outputs": [],
   "source": [
    "from itertools import chain\n",
    "for value in chain(crds.heavy_client.__dict__.values(), crds.api.__dict__.values()):\n",
    "    if isinstance(value, crds.utils.CachedFunction):\n",
    "        value.cache = {}"
   ]
  },
  {
   "cell_type": "markdown",
   "metadata": {},
   "source": [
    "Let's make the same `crds.getreferences` call as before, but with the new context:"
   ]
  },
  {
   "cell_type": "code",
   "execution_count": null,
   "metadata": {},
   "outputs": [],
   "source": [
    "crds.getreferences(\n",
    "    {\n",
    "        \"META.INSTRUMENT.NAME\": \"NIRCAM\",\n",
    "        \"META.INSTRUMENT.DETECTOR\": \"NRCA1\",\n",
    "        \"META.EXPOSURE.READPATT\": \"I LOVE OATMEAL\",\n",
    "        \"META.SUBARRAY.NAME\": \"HARRIET\",\n",
    "        \"META.OBSERVATION.DATE\": \"2015-11-20\",\n",
    "        \"META.OBSERVATION.TIME\": \"10:11:12\",\n",
    "    },\n",
    "    reftypes=[\"readnoise\"],\n",
    "    observatory=\"jwst\",\n",
    "    context=NEW_CONTEXT,\n",
    ")"
   ]
  },
  {
   "cell_type": "markdown",
   "metadata": {},
   "source": [
    "It's the same file, and that's good -- the new file is only to be used for data taken in the future.  We should get back the new file when we advance the date:"
   ]
  },
  {
   "cell_type": "code",
   "execution_count": null,
   "metadata": {},
   "outputs": [],
   "source": [
    "crds.getreferences(\n",
    "    {\n",
    "        \"META.INSTRUMENT.NAME\": \"NIRCAM\",\n",
    "        \"META.INSTRUMENT.DETECTOR\": \"NRCA1\",\n",
    "        \"META.EXPOSURE.READPATT\": \"I LOVE OATMEAL\",\n",
    "        \"META.SUBARRAY.NAME\": \"HARRIET\",\n",
    "        \"META.OBSERVATION.DATE\": \"2018-11-20\",\n",
    "        \"META.OBSERVATION.TIME\": \"10:11:12\",\n",
    "    },\n",
    "    reftypes=[\"readnoise\"],\n",
    "    observatory=\"jwst\",\n",
    "    context=NEW_CONTEXT,\n",
    ")"
   ]
  },
  {
   "cell_type": "markdown",
   "metadata": {},
   "source": [
    "Yup, that's the one."
   ]
  },
  {
   "cell_type": "markdown",
   "metadata": {},
   "source": [
    "## Further reading\n",
    "\n",
    "The CRDS User Manual includes [detailed documentation](https://jwst-crds-bit.stsci.edu/static/users_guide/programmatic_interface.html) on use of the Python submission API."
   ]
  }
 ],
 "metadata": {
  "kernelspec": {
   "display_name": "Python 3",
   "language": "python",
   "name": "python3"
  },
  "language_info": {
   "codemirror_mode": {
    "name": "ipython",
    "version": 3
   },
   "file_extension": ".py",
   "mimetype": "text/x-python",
   "name": "python",
   "nbconvert_exporter": "python",
   "pygments_lexer": "ipython3",
   "version": "3.7.9"
  }
 },
 "nbformat": 4,
 "nbformat_minor": 4
}
