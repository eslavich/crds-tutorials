{
 "cells": [
  {
   "cell_type": "markdown",
   "metadata": {},
   "source": [
    "# CRDS reference mappings\n",
    "\n",
    "This notebook explores the CRDS .rmap rules files."
   ]
  },
  {
   "cell_type": "markdown",
   "metadata": {},
   "source": [
    "## Prerequisites\n",
    "\n",
    "To follow along with the examples in this notebook, you will need:\n",
    "\n",
    "- The following Python packages installed:\n",
    "\n",
    "```\n",
    "$ pip install crds==7.6.1\n",
    "```"
   ]
  },
  {
   "cell_type": "code",
   "execution_count": null,
   "metadata": {},
   "outputs": [],
   "source": [
    "import crds"
   ]
  },
  {
   "cell_type": "markdown",
   "metadata": {},
   "source": [
    "## .rmap olympics\n",
    "\n",
    "Congratulations, you've been chosen to represent your scrum team in the .rmap olympics!  For each of the following challenges, edit the `RMAP` variable according to the instructions.  Test your changes by executing the \"Test your solution\" code cell."
   ]
  },
  {
   "cell_type": "markdown",
   "metadata": {},
   "source": [
    "### Challenge 1\n",
    "\n",
    "To celebrate your humble notebook author's birthday, we're going to change the NIRCam `photom` reference file to a special edition just for that day.  Modify the following .rmap to select `jwst_nircam_photom_birthday.fits` for the duration of 11/20/2020, but only for the `NRC_IMAGE` exposure type."
   ]
  },
  {
   "cell_type": "code",
   "execution_count": null,
   "metadata": {},
   "outputs": [],
   "source": [
    "RMAP = \"\"\"\n",
    "header = {\n",
    "    'classes' : ('Match', 'UseAfter'),\n",
    "    'derived_from' : 'jwst_nircam_photom_0009.rmap',\n",
    "    'filekind' : 'PHOTOM',\n",
    "    'instrument' : 'NIRCAM',\n",
    "    'mapping' : 'REFERENCE',\n",
    "    'name' : 'jwst_nircam_photom_0010.rmap',\n",
    "    'observatory' : 'JWST',\n",
    "    'parkey' : (('META.INSTRUMENT.DETECTOR', 'META.EXPOSURE.TYPE'), ('META.OBSERVATION.DATE', 'META.OBSERVATION.TIME')),\n",
    "    'sha1sum' : '32715a282c1417c74b06eaac369d1c1bb99ba248',\n",
    "}\n",
    "\n",
    "selector = Match({\n",
    "    ('NRCA1', 'N/A') : UseAfter({\n",
    "        '1900-01-01 00:00:00' : 'jwst_nircam_photom_0031.fits',\n",
    "        '2014-01-01 00:00:00' : 'jwst_nircam_photom_0048.fits',\n",
    "    }),\n",
    "    ('NRCA1', 'NRC_CORON|NRC_FLAT|NRC_FOCUS|NRC_IMAGE|NRC_TACONFIRM|NRC_TACQ|NRC_TSIMAGE') : UseAfter({\n",
    "        '2014-01-01 00:00:00' : 'jwst_nircam_photom_0074.fits',\n",
    "    }),\n",
    "})\n",
    "\"\"\""
   ]
  },
  {
   "cell_type": "markdown",
   "metadata": {},
   "source": [
    "#### Test your solution"
   ]
  },
  {
   "cell_type": "code",
   "execution_count": null,
   "metadata": {},
   "outputs": [],
   "source": [
    "rmap = crds.core.rmap.ReferenceMapping.from_string(RMAP, ignore_checksum=True)\n",
    "\n",
    "def assert_best_ref(exposure_type, date, filename):\n",
    "    result = rmap.get_best_ref(\n",
    "        {\n",
    "            \"META.INSTRUMENT.DETECTOR\": \"NRCA1\",\n",
    "            \"META.EXPOSURE.TYPE\": exposure_type,\n",
    "            \"META.OBSERVATION.DATE\": date,\n",
    "            \"META.OBSERVATION.TIME\": \"00:00:00\",\n",
    "        }\n",
    "    )\n",
    "    \n",
    "    if result != filename:\n",
    "        message = f\"Test failed for META.EXPOSURE.TYPE={exposure_type}, META.OBSERVATION.DATE={date}.  Expected {filename}, got {result}\"\n",
    "        raise AssertionError(message)\n",
    "    \n",
    "assert_best_ref(\"SOME EXPOSURE TYPE\", \"1980-01-01\", \"jwst_nircam_photom_0031.fits\")\n",
    "assert_best_ref(\"SOME EXPOSURE TYPE\", \"2014-01-01\", \"jwst_nircam_photom_0048.fits\")\n",
    "assert_best_ref(\"SOME EXPOSURE TYPE\", \"2020-11-20\", \"jwst_nircam_photom_0048.fits\")\n",
    "\n",
    "\n",
    "for exposure_type in (\"NRC_CORON\", \"NRC_FLAT\", \"NRC_FOCUS\", \"NRC_IMAGE\", \"NRC_TACONFIRM\", \"NRC_TACQ\", \"NRC_TSIMAGE\"):\n",
    "    assert_best_ref(exposure_type, \"2014-01-01\", \"jwst_nircam_photom_0074.fits\")\n",
    "    assert_best_ref(exposure_type, \"2020-11-21\", \"jwst_nircam_photom_0074.fits\")\n",
    "    \n",
    "for exposure_type in (\"NRC_CORON\", \"NRC_FLAT\", \"NRC_IMAGE\", \"NRC_TACONFIRM\", \"NRC_TACQ\", \"NRC_TSIMAGE\"):\n",
    "    assert_best_ref(exposure_type, \"2020-11-20\", \"jwst_nircam_photom_0074.fits\")\n",
    "\n",
    "assert_best_ref(\"NRC_IMAGE\", \"2020-11-20\", \"jwst_nircam_photom_birthday.fits\")\n",
    "\n",
    "print(\"Success!\")"
   ]
  },
  {
   "cell_type": "markdown",
   "metadata": {},
   "source": [
    "### Challenge 2\n",
    "\n",
    "Oh no, MIRI was struck by rogue fireworks and the previously stable flat field correction completely changed!  Add time-dependence to the following .rmap.  For each match case, use the existing reference file up to 10pm UTC on 7/4/2024, but switch to the following files (identified by band) at that time:\n",
    "\n",
    "`LONG`: jwst_miri_flat_0600.fits\n",
    "\n",
    "`MEDIUM`: jwst_miri_flat_0601.fits\n",
    "\n",
    "`SHORT`: jwst_miri_flat_0602.fits"
   ]
  },
  {
   "cell_type": "code",
   "execution_count": null,
   "metadata": {},
   "outputs": [],
   "source": [
    "RMAP = \"\"\"\n",
    "header = {\n",
    "    'classes' : ('Match',),\n",
    "    'derived_from' : 'jwst_miri_flat_0045.rmap',\n",
    "    'filekind' : 'FLAT',\n",
    "    'instrument' : 'MIRI',\n",
    "    'mapping' : 'REFERENCE',\n",
    "    'name' : 'jwst_miri_flat_0046.rmap',\n",
    "    'observatory' : 'JWST',\n",
    "    'parkey' : (('META.INSTRUMENT.DETECTOR', 'META.INSTRUMENT.FILTER', 'META.INSTRUMENT.BAND', 'META.EXPOSURE.READPATT', 'META.SUBARRAY.NAME'),),\n",
    "    'sha1sum' : '1b42da81d62fb32d927911f3dcae05a980bcf939',\n",
    "}\n",
    "\n",
    "selector = Match({\n",
    "    ('MIRIFULONG', 'N/A', 'LONG', 'N/A', 'FULL') : 'jwst_miri_flat_0541.fits',\n",
    "    ('MIRIFULONG', 'N/A', 'MEDIUM', 'N/A', 'FULL') : 'jwst_miri_flat_0539.fits',\n",
    "    ('MIRIFULONG', 'N/A', 'SHORT', 'N/A', 'FULL') : 'jwst_miri_flat_0542.fits',\n",
    "})\n",
    "\"\"\""
   ]
  },
  {
   "cell_type": "markdown",
   "metadata": {},
   "source": [
    "#### Test your solution"
   ]
  },
  {
   "cell_type": "code",
   "execution_count": null,
   "metadata": {},
   "outputs": [],
   "source": [
    "rmap = crds.core.rmap.ReferenceMapping.from_string(RMAP, ignore_checksum=True)\n",
    "\n",
    "def assert_best_ref(band, date, time, filename):\n",
    "    result = rmap.get_best_ref(\n",
    "        {\n",
    "            \"META.INSTRUMENT.DETECTOR\": \"MIRIFULONG\",\n",
    "            \"META.INSTRUMENT.BAND\": band,\n",
    "            \"META.SUBARRAY.NAME\": \"FULL\",\n",
    "            \"META.OBSERVATION.DATE\": date,\n",
    "            \"META.OBSERVATION.TIME\": time,\n",
    "        }\n",
    "    )\n",
    "    \n",
    "    if result != filename:\n",
    "        message = f\"Test failed for META.EXPOSURE.BAND={band}, META.OBSERVATION.DATE={date}, META.OBSERVATION.TIME={time}.  Expected {filename}, got {result}\"\n",
    "        raise AssertionError(message)\n",
    "        \n",
    "assert_best_ref(\"LONG\", \"2023-01-01\", \"00:00:00\", \"jwst_miri_flat_0541.fits\")\n",
    "assert_best_ref(\"LONG\", \"2024-07-04\", \"09:59:59\", \"jwst_miri_flat_0541.fits\")\n",
    "assert_best_ref(\"LONG\", \"2024-07-04\", \"10:00:00\", \"jwst_miri_flat_0600.fits\")\n",
    "assert_best_ref(\"LONG\", \"2025-01-01\", \"00:00:00\", \"jwst_miri_flat_0600.fits\")\n",
    "\n",
    "assert_best_ref(\"MEDIUM\", \"2023-01-01\", \"00:00:00\", \"jwst_miri_flat_0539.fits\")\n",
    "assert_best_ref(\"MEDIUM\", \"2024-07-04\", \"09:59:59\", \"jwst_miri_flat_0539.fits\")\n",
    "assert_best_ref(\"MEDIUM\", \"2024-07-04\", \"10:00:00\", \"jwst_miri_flat_0601.fits\")\n",
    "assert_best_ref(\"MEDIUM\", \"2025-01-01\", \"00:00:00\", \"jwst_miri_flat_0601.fits\")\n",
    "\n",
    "assert_best_ref(\"SHORT\", \"2023-01-01\", \"00:00:00\", \"jwst_miri_flat_0542.fits\")\n",
    "assert_best_ref(\"SHORT\", \"2024-07-04\", \"09:59:59\", \"jwst_miri_flat_0542.fits\")\n",
    "assert_best_ref(\"SHORT\", \"2024-07-04\", \"10:00:00\", \"jwst_miri_flat_0602.fits\")\n",
    "assert_best_ref(\"SHORT\", \"2025-01-01\", \"00:00:00\", \"jwst_miri_flat_0602.fits\")\n",
    "\n",
    "print(\"Success!\")"
   ]
  },
  {
   "cell_type": "markdown",
   "metadata": {},
   "source": [
    "### Challenge 3\n",
    "\n",
    "Construct a selector for the `nirspec` `disperser` reference type with the following rules:\n",
    "\n",
    "- If the exposure type is `NRS_DARK`, return reference file not applicable.  This rule overrides any subsequent rule.\n",
    "- If the grating is `G140H` and the exposure type one of (`NRS_AUTOWAVE`, `NRS_AUTOFLAT`, or `NRS_TACQ`), return `jwst_nirspec_disperser_0001.asdf`.\n",
    "- If the grating is `G140H` and the exposure type not already covered by a previous rule, return `jwst_nirspec_disperser_0002.asdf`.\n",
    "- If the grating is `MIRROR`, return `jwst_nirspec_disperser_0003.asdf` regardless of exposure type (except `NRS_DARK`).\n",
    "\n",
    "The selector should be time-dependent, but this initial set of files can all share a useafter timestamp of `2020-01-01 00:00:00`."
   ]
  },
  {
   "cell_type": "code",
   "execution_count": null,
   "metadata": {},
   "outputs": [],
   "source": [
    "RMAP = \"\"\"\n",
    "header = {\n",
    "    'classes' : ('Match', 'UseAfter'),\n",
    "    'derived_from' : 'jwst_nirspec_disperser_0019.rmap',\n",
    "    'filekind' : 'DISPERSER',\n",
    "    'instrument' : 'NIRSPEC',\n",
    "    'mapping' : 'REFERENCE',\n",
    "    'name' : 'jwst_nirspec_disperser_0019.rmap',\n",
    "    'observatory' : 'JWST',\n",
    "    'parkey' : (('META.INSTRUMENT.GRATING', 'META.EXPOSURE.TYPE'), ('META.OBSERVATION.DATE', 'META.OBSERVATION.TIME')),\n",
    "    'sha1sum' : 'ad74383edba73deabd88922565b5f8da7237d779',\n",
    "}\n",
    "\n",
    "selector = Match({\n",
    "    # ???\n",
    "})\n",
    "\"\"\""
   ]
  },
  {
   "cell_type": "markdown",
   "metadata": {},
   "source": [
    "#### Test your solution"
   ]
  },
  {
   "cell_type": "code",
   "execution_count": null,
   "metadata": {},
   "outputs": [],
   "source": [
    "rmap = crds.core.rmap.ReferenceMapping.from_string(RMAP, ignore_checksum=True)\n",
    "\n",
    "def assert_best_ref(grating, exposure_type, filename):\n",
    "    result = rmap.get_best_ref(\n",
    "        {\n",
    "            \"META.INSTRUMENT.GRATING\": grating,\n",
    "            \"META.EXPOSURE.TYPE\": exposure_type,\n",
    "            \"META.OBSERVATION.DATE\": \"2020-01-01\",\n",
    "            \"META.OBSERVATION.TIME\": \"00:00:00\",\n",
    "        }\n",
    "    )\n",
    "    \n",
    "    if result != filename:\n",
    "        message = f\"Test failed for META.INSTRUMENT.GRATING={grating}, META.EXPOSURE.TYPE={exposure_type}.  Expected {filename}, got {result}\"\n",
    "        raise AssertionError(message)\n",
    "        \n",
    "for grating in [\"G140H\", \"MIRROR\", \"PRISM\"]:\n",
    "    assert_best_ref(grating, \"NRS_DARK\", \"NOT FOUND n/a\")\n",
    "    \n",
    "for exposure_type in [\"NRS_AUTOWAVE\", \"NRS_AUTOFLAT\", \"NRS_TACQ\"]:\n",
    "    assert_best_ref(\"G140H\", exposure_type, \"jwst_nirspec_disperser_0001.asdf\")\n",
    "    \n",
    "import random\n",
    "import string\n",
    "random_exposure_type = \"NRS_\" + \"\".join([random.choice(string.ascii_uppercase) for _ in range(8)])\n",
    "\n",
    "assert_best_ref(\"G140H\", random_exposure_type, \"jwst_nirspec_disperser_0002.asdf\") \n",
    "\n",
    "for exposure_type in [\"NRS_AUTOWAVE\", \"NRS_AUTOFLAT\", \"NRS_TACQ\", random_exposure_type]:\n",
    "    assert_best_ref(\"MIRROR\", exposure_type, \"jwst_nirspec_disperser_0003.asdf\")\n",
    "    assert_best_ref(\"PRISM\", exposure_type, \"NOT FOUND No match found.\")\n",
    "    \n",
    "print(\"Success!\")"
   ]
  },
  {
   "cell_type": "markdown",
   "metadata": {},
   "source": [
    "### Challenge 4\n",
    "\n",
    "Construct a selector for the `nirspec` `dflat` reference type with the following rules:\n",
    "\n",
    "- For the `NRS1` detector and any exposure type that begins with `NRS_` select the `jwst_nirspec_dflat_0001.fits` reference file.  Other exposure types should select `jwst_nirspec_dflat_0002.fits`.\n",
    "- For the `NRS2` detector and the following exposure types: `NRS_MSATA`, `NRS_WATA`, `NRS_CONFIRM`, select `jwst_nirspec_dflat_0003.fits`.  For `NRS_FOCUS`, select `jwst_nirspec_dflat_0004.fits`.  Other exposure types should select `jwst_nirspec_dflat_0005.fits`.\n",
    "\n",
    "The selector should be time-dependent, but this initial set of files can all share a useafter timestamp of `2020-01-01 00:00:00`.\n",
    "\n",
    "Hint: you will need to use a `Match` feature that hasn't been discussed in this notebook.  Consult the [CRDS User Manual](https://jwst-crds-bit.stsci.edu/static/users_guide/rmap_syntax.html) for assistance."
   ]
  },
  {
   "cell_type": "code",
   "execution_count": 1,
   "metadata": {},
   "outputs": [],
   "source": [
    "RMAP = \"\"\"\n",
    "header = {\n",
    "    'classes' : ('Match', 'UseAfter'),\n",
    "    'derived_from' : 'jwst_nirspec_dflat_0005.rmap',\n",
    "    'filekind' : 'DFLAT',\n",
    "    'instrument' : 'NIRSPEC',\n",
    "    'mapping' : 'REFERENCE',\n",
    "    'name' : 'jwst_nirspec_dflat_0005.rmap',\n",
    "    'observatory' : 'JWST',\n",
    "    'parkey' : (('META.INSTRUMENT.DETECTOR', 'META.EXPOSURE.TYPE'), ('META.OBSERVATION.DATE', 'META.OBSERVATION.TIME')),\n",
    "    'sha1sum' : '3ee07dcd1fe41ad6d5e4e1b4dbcf3eaa4369659e',\n",
    "}\n",
    "\n",
    "selector = Match({\n",
    "    # ???\n",
    "})\n",
    "\"\"\""
   ]
  },
  {
   "cell_type": "markdown",
   "metadata": {},
   "source": [
    "#### Test your solution"
   ]
  },
  {
   "cell_type": "code",
   "execution_count": null,
   "metadata": {},
   "outputs": [],
   "source": [
    "rmap = crds.core.rmap.ReferenceMapping.from_string(RMAP, ignore_checksum=True)\n",
    "\n",
    "def assert_best_ref(detector, exposure_type, filename):\n",
    "    result = rmap.get_best_ref(\n",
    "        {\n",
    "            \"META.INSTRUMENT.DETECTOR\": detector,\n",
    "            \"META.EXPOSURE.TYPE\": exposure_type,\n",
    "            \"META.OBSERVATION.DATE\": \"2020-01-01\",\n",
    "            \"META.OBSERVATION.TIME\": \"00:00:00\",\n",
    "        }\n",
    "    )\n",
    "    \n",
    "    if result != filename:\n",
    "        message = f\"Test failed for META.INSTRUMENT.DETECTOR={detector}, META.EXPOSURE.TYPE={exposure_type}.  Expected {filename}, got {result}\"\n",
    "        raise AssertionError(message)\n",
    "\n",
    "import random\n",
    "import string\n",
    "random_nrs_exposure_type = \"NRS_\" + \"\".join([random.choice(string.ascii_uppercase) for _ in range(random.randint(4, 30))])\n",
    "random_other_exposure_type = \"\".join([random.choice(string.ascii_uppercase) for _ in range(random.randint(4, 30))])\n",
    "        \n",
    "for exposure_type in [\"NRS_MSATA\", \"NRS_WATA\", \"NRS_CONFIRM\", random_nrs_exposure_type]:\n",
    "    assert_best_ref(\"NRS1\", exposure_type, \"jwst_nirspec_dflat_0001.fits\")\n",
    "    \n",
    "assert_best_ref(\"NRS1\", random_other_exposure_type, \"jwst_nirspec_dflat_0002.fits\")\n",
    "    \n",
    "for exposure_type in [\"NRS_MSATA\", \"NRS_WATA\", \"NRS_CONFIRM\"]:\n",
    "    assert_best_ref(\"NRS2\", exposure_type, \"jwst_nirspec_dflat_0003.fits\")\n",
    "\n",
    "assert_best_ref(\"NRS2\", \"NRS_FOCUS\", \"jwst_nirspec_dflat_0004.fits\")\n",
    "\n",
    "for exposure_type in [random_nrs_exposure_type, random_other_exposure_type]:\n",
    "    assert_best_ref(\"NRS2\", exposure_type, \"jwst_nirspec_dflat_0004.fits\") \n",
    "    \n",
    "print(\"Success!\")"
   ]
  },
  {
   "cell_type": "markdown",
   "metadata": {},
   "source": [
    "### Challenge 5\n",
    "\n",
    "You're throwing a series of dinner parties!  You've stored your favorite recipes in individual ASDF files and need an .rmap that will select them based on metadata from your guest lists.  A guest list has the following metadata available:\n",
    "\n",
    "**META.PARTY.GUEST_COUNT**: A positive integer.\n",
    "\n",
    "**META.PARTY.DIET**: One of `VEGAN`, `VEGETARIAN`, or `OMNIVORE`.\n",
    "\n",
    "**META.PARTY.ALLERGEN**: A string identifier for a single allergen.  The full set of allergens is unknown, but you're confident that your recipe metadata is complete.\n",
    "\n",
    "**META.PARTY.DATE**: The date of the party.\n",
    "\n",
    "**META.PARTY.TIME**: The time of the party.\n",
    "\n",
    "Here are your recipes:\n",
    "\n",
    "**mac_and_cheese.asdf**\n",
    "```\n",
    "Servings: 100\n",
    "Allergens: WHEAT, DAIRY\n",
    "Incompatible diets: VEGAN\n",
    "Seasonal availability: (unrestricted)\n",
    "```\n",
    "\n",
    "**mac_and_cheese_with_asparagus.asdf**\n",
    "```\n",
    "Servings: 100\n",
    "Allergens: `WHEAT`, `DAIRY`\n",
    "Incompatible diets: `VEGAN`\n",
    "Seasonal availability: February 1st, 2022 until June 1st, 2022\n",
    "```\n",
    "\n",
    "**stir_fry_with_beef.asdf**\n",
    "```\n",
    "Servings: 4\n",
    "Allergens: (none)\n",
    "Incompatible diets: `VEGAN`, `VEGETARIAN`\n",
    "Seasonal availability: (unrestricted)\n",
    "```\n",
    "\n",
    "**oatmeal.asdf**\n",
    "```\n",
    "Servings: (unlimited)\n",
    "Allergens: (none)\n",
    "Incompatible diets: (none)\n",
    "Seasonal availability: (unrestricted)\n",
    "```\n",
    "\n",
    "**oatmeal_with_apples.asdf**\n",
    "```\n",
    "Servings: (unlimited)\n",
    "Allergens: (none)\n",
    "Incompatible diets: (none)\n",
    "Seasonal availability: August 1st, 2022 until November 1st, 2022\n",
    "```\n",
    "\n",
    "Serving oatmeal should be avoided whenever possible.  Prioritize seasonal vegetables.  In anticipation of continued SARS-CoV-2 restrictions, the parties are planned for the year 2022."
   ]
  },
  {
   "cell_type": "code",
   "execution_count": null,
   "metadata": {},
   "outputs": [],
   "source": [
    "RMAP = \"\"\"\n",
    "header = {\n",
    "    # ???\n",
    "}\n",
    "\n",
    "selector = Match({\n",
    "    # ???\n",
    "})\n",
    "\"\"\""
   ]
  },
  {
   "cell_type": "markdown",
   "metadata": {},
   "source": [
    "#### Test your solution"
   ]
  },
  {
   "cell_type": "code",
   "execution_count": null,
   "metadata": {},
   "outputs": [],
   "source": [
    "rmap = crds.core.rmap.ReferenceMapping.from_string(RMAP, ignore_checksum=True)\n",
    "\n",
    "def assert_best_ref(guest_count, diet, allergen, date):\n",
    "    result = rmap.get_best_ref(\n",
    "        {\n",
    "            \"META.PARTY.GUEST_COUNT\": guest_count,\n",
    "            \"META.PARTY.DIET\": diet,\n",
    "            \"META.PARTY.ALLERGEN\": allergen,\n",
    "            \"META.PARTY.DATE\": date,\n",
    "            \"META.PARTY.TIME\": \"00:00:00\",\n",
    "        }\n",
    "    )\n",
    "    \n",
    "    if result != filename:\n",
    "        message = f\"Test failed for META.PARTY.GUEST_COUNT={guest_count}, META.PARTY.DIET={diet}, META.PARTY.ALLERGEN={allergen}, META.PARTY.DATE={date}.  Expected {filename}, got {result}\"\n",
    "        raise AssertionError(message)\n",
    "               \n",
    "for guest_count in [101, 1000, 10000]:\n",
    "    assert_best_ref(guest_count, \"OMNIVORE\", \"N/A\", \"2022-07-01\", \"oatmeal.asdf\")\n",
    "    assert_best_ref(guest_count, \"OMNIVORE\", \"N/A\", \"2022-08-15\", \"oatmeal_with_apples.asdf\")\n",
    "    assert_best_ref(guest_count, \"OMNIVORE\", \"N/A\", \"2022-11-20\", \"oatmeal.asdf\")\n",
    "    \n",
    "for guest_count in range(5, 100):\n",
    "    assert_best_ref(guest_count, \"OMNIVORE\", \"N/A\", \"2022-01-05\", \"mac_and_cheese.asdf\")\n",
    "    assert_best_ref(guest_count, \"OMNIVORE\", \"N/A\", \"2022-03-08\", \"mac_and_cheese_with_asparagus\")\n",
    "    assert_best_ref(guest_count, \"VEGAN\", \"N/A\", \"2022-09-20\", \"oatmeal.asdf\")\n",
    "    assert_best_ref(guest_count, \"OMNIVORE\", \"WHEAT\", \"2022-09-20\", \"oatmeal.asdf\")\n",
    "    assert_best_ref(guest_count, \"OMNIVORE\", \"DAIRY\", \"2022-09-20\", \"oatmeal.asdf\")\n",
    "    assert_best_ref(guest_count, \"OMNIVORE\", \"KANGAROO\", \"2022-01-05\", \"mac_and_cheese.asdf\")\n",
    "    assert_best_ref(guest_count, \"OMNIVORE\", \"KANGAROO\", \"2022-03-08\", \"mac_and_cheese.asdf\")\n",
    "\n",
    "for guest_count in range(1, 5):\n",
    "    assert_best_ref(guest_count, \"OMNIVORE\", \"WHEAT\", \"2022-05-01\", \"stir_fry_with_beef.asdf\")\n",
    "    assert_best_ref(guest_count, \"OMNIVORE\", \"DAIRY\", \"2022-05-01\", \"stir_fry_with_beef.asdf\")\n",
    "    assert_best_ref(guest_count, \"VEGETARIAN\", \"WHEAT\", \"2022-05-01\", \"oatmeal.asdf\")\n",
    "    assert_best_ref(guest_count, \"VEGAN\", \"WHEAT\", \"2022-05-01\", \"oatmeal.asdf\")\n",
    "    \n",
    "print(\"Success!\")"
   ]
  },
  {
   "cell_type": "markdown",
   "metadata": {},
   "source": [
    "## Further reading\n",
    "\n",
    "The CRDS User Manual includes [detailed documentation](https://jwst-crds-bit.stsci.edu/static/users_guide/rmap_syntax.html) on the subject of CRDS rules files."
   ]
  }
 ],
 "metadata": {
  "kernelspec": {
   "display_name": "Python 3",
   "language": "python",
   "name": "python3"
  },
  "language_info": {
   "codemirror_mode": {
    "name": "ipython",
    "version": 3
   },
   "file_extension": ".py",
   "mimetype": "text/x-python",
   "name": "python",
   "nbconvert_exporter": "python",
   "pygments_lexer": "ipython3",
   "version": "3.7.9"
  }
 },
 "nbformat": 4,
 "nbformat_minor": 4
}
