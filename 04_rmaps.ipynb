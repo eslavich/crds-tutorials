{
 "cells": [
  {
   "cell_type": "markdown",
   "metadata": {},
   "source": [
    "# CRDS reference mappings\n",
    "\n",
    "This notebook explores the CRDS **.rmap** rules files."
   ]
  },
  {
   "cell_type": "markdown",
   "metadata": {},
   "source": [
    "## Prerequisites\n",
    "\n",
    "To follow along with the examples in this notebook, you will need:\n",
    "\n",
    "- The following Python packages installed:\n",
    "\n",
    "```\n",
    "$ pip install crds==7.6.1\n",
    "```"
   ]
  },
  {
   "cell_type": "code",
   "execution_count": null,
   "metadata": {},
   "outputs": [],
   "source": [
    "import crds"
   ]
  },
  {
   "cell_type": "markdown",
   "metadata": {},
   "source": [
    "## .rmap olympics\n",
    "\n",
    "Congratulations, you've been chosen to represent your scrum team in the .rmap olympics!  For each of the following challenges, edit the `RMAP_CONTENT` variable according to the instructions.  Test your changes by executing the \"Test your solution\" code cell."
   ]
  },
  {
   "cell_type": "markdown",
   "metadata": {},
   "source": [
    "### Challenge 1\n",
    "\n",
    "To celebrate your humble notebook author's birthday, we're going to change the NIRCam `photom` reference file to a special edition just for that day.  Modify the following .rmap to select `jwst_nircam_photom_birthday.fits` for the duration of 11/20/2020, but only for the `NRC_IMAGE` exposure type."
   ]
  },
  {
   "cell_type": "code",
   "execution_count": null,
   "metadata": {},
   "outputs": [],
   "source": [
    "RMAP_CONTENT = \"\"\"\n",
    "header = {\n",
    "    'classes' : ('Match', 'UseAfter'),\n",
    "    'derived_from' : 'jwst_nircam_photom_0009.rmap',\n",
    "    'filekind' : 'PHOTOM',\n",
    "    'instrument' : 'NIRCAM',\n",
    "    'mapping' : 'REFERENCE',\n",
    "    'name' : 'jwst_nircam_photom_0010.rmap',\n",
    "    'observatory' : 'JWST',\n",
    "    'parkey' : (('META.INSTRUMENT.DETECTOR', 'META.EXPOSURE.TYPE'), ('META.OBSERVATION.DATE', 'META.OBSERVATION.TIME')),\n",
    "    'sha1sum' : '32715a282c1417c74b06eaac369d1c1bb99ba248',\n",
    "}\n",
    "\n",
    "selector = Match({\n",
    "    ('NRCA1', 'N/A') : UseAfter({\n",
    "        '1900-01-01 00:00:00' : 'jwst_nircam_photom_0031.fits',\n",
    "        '2014-01-01 00:00:00' : 'jwst_nircam_photom_0048.fits',\n",
    "    }),\n",
    "    ('NRCA1', 'NRC_CORON|NRC_FLAT|NRC_FOCUS|NRC_IMAGE|NRC_TACONFIRM|NRC_TACQ|NRC_TSIMAGE') : UseAfter({\n",
    "        '2014-01-01 00:00:00' : 'jwst_nircam_photom_0074.fits',\n",
    "    }),\n",
    "})\n",
    "\"\"\""
   ]
  },
  {
   "cell_type": "markdown",
   "metadata": {},
   "source": [
    "#### Test your solution"
   ]
  },
  {
   "cell_type": "code",
   "execution_count": null,
   "metadata": {},
   "outputs": [],
   "source": [
    "rmap = crds.core.rmap.ReferenceMapping.from_string(RMAP_CONTENT, ignore_checksum=True)\n",
    "\n",
    "def assert_best_ref(exposure_type, date, filename):\n",
    "    result = rmap.get_best_ref(\n",
    "        {\n",
    "            \"META.INSTRUMENT.DETECTOR\": \"NRCA1\",\n",
    "            \"META.EXPOSURE.TYPE\": exposure_type,\n",
    "            \"META.OBSERVATION.DATE\": date,\n",
    "            \"META.OBSERVATION.TIME\": \"00:00:00\",\n",
    "        }\n",
    "    )\n",
    "    \n",
    "    if result != filename:\n",
    "        message = f\"Test failed for META.EXPOSURE.TYPE={exposure_type}, META.OBSERVATION.DATE={date}.  Expected {filename}, got {result}\"\n",
    "        raise AssertionError(message)\n",
    "    \n",
    "assert_best_ref(\"SOME EXPOSURE TYPE\", \"1980-01-01\", \"jwst_nircam_photom_0031.fits\")\n",
    "assert_best_ref(\"SOME EXPOSURE TYPE\", \"2014-01-01\", \"jwst_nircam_photom_0048.fits\")\n",
    "assert_best_ref(\"SOME EXPOSURE TYPE\", \"2020-11-20\", \"jwst_nircam_photom_0048.fits\")\n",
    "\n",
    "\n",
    "for exposure_type in (\"NRC_CORON\", \"NRC_FLAT\", \"NRC_FOCUS\", \"NRC_IMAGE\", \"NRC_TACONFIRM\", \"NRC_TACQ\", \"NRC_TSIMAGE\"):\n",
    "    assert_best_ref(exposure_type, \"2014-01-01\", \"jwst_nircam_photom_0074.fits\")\n",
    "    assert_best_ref(exposure_type, \"2020-11-21\", \"jwst_nircam_photom_0074.fits\")\n",
    "    \n",
    "for exposure_type in (\"NRC_CORON\", \"NRC_FLAT\", \"NRC_IMAGE\", \"NRC_TACONFIRM\", \"NRC_TACQ\", \"NRC_TSIMAGE\"):\n",
    "    assert_best_ref(exposure_type, \"2020-11-20\", \"jwst_nircam_photom_0074.fits\")\n",
    "\n",
    "assert_best_ref(\"NRC_IMAGE\", \"2020-11-20\", \"jwst_nircam_photom_birthday.fits\")\n",
    "\n",
    "print(\"Success!\")"
   ]
  },
  {
   "cell_type": "markdown",
   "metadata": {},
   "source": [
    "### Challenge 2\n",
    "\n",
    "Oh no, MIRI was struck by rogue fireworks and the previously stable flat field correction completely changed!  Add time-dependence to the following .rmap.  For each match case, use the existing reference file up to 10pm UTC on 7/4/2024, but switch to the following files (identified by band) at that time:\n",
    "\n",
    "`LONG`: jwst_miri_flat_0600.fits\n",
    "\n",
    "`MEDIUM`: jwst_miri_flat_0601.fits\n",
    "\n",
    "`SHORT`: jwst_miri_flat_0602.fits"
   ]
  },
  {
   "cell_type": "code",
   "execution_count": null,
   "metadata": {},
   "outputs": [],
   "source": [
    "RMAP_CONTENT = \"\"\"\n",
    "header = {\n",
    "    'classes' : ('Match',),\n",
    "    'derived_from' : 'jwst_miri_flat_0045.rmap',\n",
    "    'filekind' : 'FLAT',\n",
    "    'instrument' : 'MIRI',\n",
    "    'mapping' : 'REFERENCE',\n",
    "    'name' : 'jwst_miri_flat_0046.rmap',\n",
    "    'observatory' : 'JWST',\n",
    "    'parkey' : (('META.INSTRUMENT.DETECTOR', 'META.INSTRUMENT.FILTER', 'META.INSTRUMENT.BAND', 'META.EXPOSURE.READPATT', 'META.SUBARRAY.NAME'),),\n",
    "    'sha1sum' : '1b42da81d62fb32d927911f3dcae05a980bcf939',\n",
    "}\n",
    "\n",
    "selector = Match({\n",
    "    ('MIRIFULONG', 'N/A', 'LONG', 'N/A', 'FULL') : 'jwst_miri_flat_0541.fits',\n",
    "    ('MIRIFULONG', 'N/A', 'MEDIUM', 'N/A', 'FULL') : 'jwst_miri_flat_0539.fits',\n",
    "    ('MIRIFULONG', 'N/A', 'SHORT', 'N/A', 'FULL') : 'jwst_miri_flat_0542.fits',\n",
    "})\n",
    "\"\"\""
   ]
  },
  {
   "cell_type": "markdown",
   "metadata": {},
   "source": [
    "#### Test your solution"
   ]
  },
  {
   "cell_type": "code",
   "execution_count": null,
   "metadata": {},
   "outputs": [],
   "source": [
    "rmap = crds.core.rmap.ReferenceMapping.from_string(RMAP_CONTENT, ignore_checksum=True)\n",
    "\n",
    "def assert_best_ref(band, date, time, filename):\n",
    "    result = rmap.get_best_ref(\n",
    "        {\n",
    "            \"META.INSTRUMENT.DETECTOR\": \"MIRIFULONG\",\n",
    "            \"META.INSTRUMENT.BAND\": band,\n",
    "            \"META.SUBARRAY.NAME\": \"FULL\",\n",
    "            \"META.OBSERVATION.DATE\": date,\n",
    "            \"META.OBSERVATION.TIME\": time,\n",
    "        }\n",
    "    )\n",
    "    \n",
    "    if result != filename:\n",
    "        message = f\"Test failed for META.EXPOSURE.BAND={band}, META.OBSERVATION.DATE={date}, META.OBSERVATION.TIME={time}.  Expected {filename}, got {result}\"\n",
    "        raise AssertionError(message)\n",
    "        \n",
    "assert_best_ref(\"LONG\", \"2023-01-01\", \"00:00:00\", \"jwst_miri_flat_0541.fits\")\n",
    "assert_best_ref(\"LONG\", \"2024-07-04\", \"09:59:59\", \"jwst_miri_flat_0541.fits\")\n",
    "assert_best_ref(\"LONG\", \"2024-07-04\", \"10:00:00\", \"jwst_miri_flat_0600.fits\")\n",
    "assert_best_ref(\"LONG\", \"2025-01-01\", \"00:00:00\", \"jwst_miri_flat_0600.fits\")\n",
    "\n",
    "assert_best_ref(\"MEDIUM\", \"2023-01-01\", \"00:00:00\", \"jwst_miri_flat_0539.fits\")\n",
    "assert_best_ref(\"MEDIUM\", \"2024-07-04\", \"09:59:59\", \"jwst_miri_flat_0539.fits\")\n",
    "assert_best_ref(\"MEDIUM\", \"2024-07-04\", \"10:00:00\", \"jwst_miri_flat_0601.fits\")\n",
    "assert_best_ref(\"MEDIUM\", \"2025-01-01\", \"00:00:00\", \"jwst_miri_flat_0601.fits\")\n",
    "\n",
    "assert_best_ref(\"SHORT\", \"2023-01-01\", \"00:00:00\", \"jwst_miri_flat_0542.fits\")\n",
    "assert_best_ref(\"SHORT\", \"2024-07-04\", \"09:59:59\", \"jwst_miri_flat_0542.fits\")\n",
    "assert_best_ref(\"SHORT\", \"2024-07-04\", \"10:00:00\", \"jwst_miri_flat_0602.fits\")\n",
    "assert_best_ref(\"SHORT\", \"2025-01-01\", \"00:00:00\", \"jwst_miri_flat_0602.fits\")"
   ]
  },
  {
   "cell_type": "markdown",
   "metadata": {},
   "source": [
    "### Challenge 3\n",
    "\n",
    "Maybe the recipe thing?"
   ]
  },
  {
   "cell_type": "markdown",
   "metadata": {},
   "source": [
    "## Further reading\n",
    "\n",
    "The CRDS User Manual includes [detailed documentation](https://jwst-crds-bit.stsci.edu/static/users_guide/rmap_syntax.html) on the subject of CRDS rules files."
   ]
  }
 ],
 "metadata": {
  "kernelspec": {
   "display_name": "Python 3",
   "language": "python",
   "name": "python3"
  },
  "language_info": {
   "codemirror_mode": {
    "name": "ipython",
    "version": 3
   },
   "file_extension": ".py",
   "mimetype": "text/x-python",
   "name": "python",
   "nbconvert_exporter": "python",
   "pygments_lexer": "ipython3",
   "version": "3.7.9"
  }
 },
 "nbformat": 4,
 "nbformat_minor": 4
}
